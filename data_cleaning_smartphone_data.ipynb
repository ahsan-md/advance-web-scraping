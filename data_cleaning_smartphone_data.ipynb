{
  "nbformat": 4,
  "nbformat_minor": 0,
  "metadata": {
    "colab": {
      "provenance": [],
      "toc_visible": true
    },
    "kernelspec": {
      "name": "python3",
      "display_name": "Python 3"
    },
    "language_info": {
      "name": "python"
    }
  },
  "cells": [
    {
      "cell_type": "code",
      "execution_count": null,
      "metadata": {
        "id": "aZYaAitPOxF8"
      },
      "outputs": [],
      "source": [
        "import numpy as np\n",
        "import pandas as pd"
      ]
    },
    {
      "cell_type": "code",
      "source": [
        "df = pd.read_csv('smartphones.csv')"
      ],
      "metadata": {
        "id": "L083O59FO0l4"
      },
      "execution_count": null,
      "outputs": []
    },
    {
      "cell_type": "code",
      "source": [
        "df.head()"
      ],
      "metadata": {
        "id": "J8kklfTSO2Ym",
        "colab": {
          "base_uri": "https://localhost:8080/",
          "height": 771
        },
        "outputId": "40d5fe1b-722e-484a-cdee-8d418aedb954"
      },
      "execution_count": null,
      "outputs": [
        {
          "output_type": "execute_result",
          "data": {
            "text/plain": [
              "                       model    price  rating  \\\n",
              "0              OnePlus 11 5G  ₹54,999    89.0   \n",
              "1  OnePlus Nord CE 2 Lite 5G  ₹19,989    81.0   \n",
              "2      Samsung Galaxy A14 5G  ₹16,499    75.0   \n",
              "3       Motorola Moto G62 5G  ₹14,999    81.0   \n",
              "4         Realme 10 Pro Plus  ₹24,999    82.0   \n",
              "\n",
              "                                       sim  \\\n",
              "0  Dual Sim, 3G, 4G, 5G, VoLTE, Wi-Fi, NFC   \n",
              "1       Dual Sim, 3G, 4G, 5G, VoLTE, Wi-Fi   \n",
              "2       Dual Sim, 3G, 4G, 5G, VoLTE, Wi-Fi   \n",
              "3       Dual Sim, 3G, 4G, 5G, VoLTE, Wi-Fi   \n",
              "4       Dual Sim, 3G, 4G, 5G, VoLTE, Wi-Fi   \n",
              "\n",
              "                                         processor                        ram  \\\n",
              "0  Snapdragon 8 Gen2, Octa Core, 3.2 GHz Processor  12 GB RAM, 256 GB inbuilt   \n",
              "1     Snapdragon 695, Octa Core, 2.2 GHz Processor   6 GB RAM, 128 GB inbuilt   \n",
              "2        Exynos 1330, Octa Core, 2.4 GHz Processor    4 GB RAM, 64 GB inbuilt   \n",
              "3    Snapdragon  695, Octa Core, 2.2 GHz Processor   6 GB RAM, 128 GB inbuilt   \n",
              "4     Dimensity 1080, Octa Core, 2.6 GHz Processor   6 GB RAM, 128 GB inbuilt   \n",
              "\n",
              "                                    battery  \\\n",
              "0  5000 mAh Battery with 100W Fast Charging   \n",
              "1   5000 mAh Battery with 33W Fast Charging   \n",
              "2   5000 mAh Battery with 15W Fast Charging   \n",
              "3       5000 mAh Battery with Fast Charging   \n",
              "4   5000 mAh Battery with 67W Fast Charging   \n",
              "\n",
              "                                             display  \\\n",
              "0  6.7 inches, 1440 x 3216 px, 120 Hz Display wit...   \n",
              "1  6.59 inches, 1080 x 2412 px, 120 Hz Display wi...   \n",
              "2  6.6 inches, 1080 x 2408 px, 90 Hz Display with...   \n",
              "3  6.55 inches, 1080 x 2400 px, 120 Hz Display wi...   \n",
              "4  6.7 inches, 1080 x 2412 px, 120 Hz Display wit...   \n",
              "\n",
              "                                              camera  \\\n",
              "0  50 MP + 48 MP + 32 MP Triple Rear & 16 MP Fron...   \n",
              "1  64 MP + 2 MP + 2 MP Triple Rear & 16 MP Front ...   \n",
              "2  50 MP + 2 MP + 2 MP Triple Rear & 13 MP Front ...   \n",
              "3  50 MP + 8 MP + 2 MP Triple Rear & 16 MP Front ...   \n",
              "4  108 MP + 8 MP + 2 MP Triple Rear & 16 MP Front...   \n",
              "\n",
              "                               card           os  \n",
              "0         Memory Card Not Supported  Android v13  \n",
              "1   Memory Card (Hybrid), upto 1 TB  Android v12  \n",
              "2  Memory Card Supported, upto 1 TB  Android v13  \n",
              "3   Memory Card (Hybrid), upto 1 TB  Android v12  \n",
              "4         Memory Card Not Supported  Android v13  "
            ],
            "text/html": [
              "\n",
              "  <div id=\"df-ec068908-0922-4ef9-a760-89cd1846d6f6\">\n",
              "    <div class=\"colab-df-container\">\n",
              "      <div>\n",
              "<style scoped>\n",
              "    .dataframe tbody tr th:only-of-type {\n",
              "        vertical-align: middle;\n",
              "    }\n",
              "\n",
              "    .dataframe tbody tr th {\n",
              "        vertical-align: top;\n",
              "    }\n",
              "\n",
              "    .dataframe thead th {\n",
              "        text-align: right;\n",
              "    }\n",
              "</style>\n",
              "<table border=\"1\" class=\"dataframe\">\n",
              "  <thead>\n",
              "    <tr style=\"text-align: right;\">\n",
              "      <th></th>\n",
              "      <th>model</th>\n",
              "      <th>price</th>\n",
              "      <th>rating</th>\n",
              "      <th>sim</th>\n",
              "      <th>processor</th>\n",
              "      <th>ram</th>\n",
              "      <th>battery</th>\n",
              "      <th>display</th>\n",
              "      <th>camera</th>\n",
              "      <th>card</th>\n",
              "      <th>os</th>\n",
              "    </tr>\n",
              "  </thead>\n",
              "  <tbody>\n",
              "    <tr>\n",
              "      <th>0</th>\n",
              "      <td>OnePlus 11 5G</td>\n",
              "      <td>₹54,999</td>\n",
              "      <td>89.0</td>\n",
              "      <td>Dual Sim, 3G, 4G, 5G, VoLTE, Wi-Fi, NFC</td>\n",
              "      <td>Snapdragon 8 Gen2, Octa Core, 3.2 GHz Processor</td>\n",
              "      <td>12 GB RAM, 256 GB inbuilt</td>\n",
              "      <td>5000 mAh Battery with 100W Fast Charging</td>\n",
              "      <td>6.7 inches, 1440 x 3216 px, 120 Hz Display wit...</td>\n",
              "      <td>50 MP + 48 MP + 32 MP Triple Rear &amp; 16 MP Fron...</td>\n",
              "      <td>Memory Card Not Supported</td>\n",
              "      <td>Android v13</td>\n",
              "    </tr>\n",
              "    <tr>\n",
              "      <th>1</th>\n",
              "      <td>OnePlus Nord CE 2 Lite 5G</td>\n",
              "      <td>₹19,989</td>\n",
              "      <td>81.0</td>\n",
              "      <td>Dual Sim, 3G, 4G, 5G, VoLTE, Wi-Fi</td>\n",
              "      <td>Snapdragon 695, Octa Core, 2.2 GHz Processor</td>\n",
              "      <td>6 GB RAM, 128 GB inbuilt</td>\n",
              "      <td>5000 mAh Battery with 33W Fast Charging</td>\n",
              "      <td>6.59 inches, 1080 x 2412 px, 120 Hz Display wi...</td>\n",
              "      <td>64 MP + 2 MP + 2 MP Triple Rear &amp; 16 MP Front ...</td>\n",
              "      <td>Memory Card (Hybrid), upto 1 TB</td>\n",
              "      <td>Android v12</td>\n",
              "    </tr>\n",
              "    <tr>\n",
              "      <th>2</th>\n",
              "      <td>Samsung Galaxy A14 5G</td>\n",
              "      <td>₹16,499</td>\n",
              "      <td>75.0</td>\n",
              "      <td>Dual Sim, 3G, 4G, 5G, VoLTE, Wi-Fi</td>\n",
              "      <td>Exynos 1330, Octa Core, 2.4 GHz Processor</td>\n",
              "      <td>4 GB RAM, 64 GB inbuilt</td>\n",
              "      <td>5000 mAh Battery with 15W Fast Charging</td>\n",
              "      <td>6.6 inches, 1080 x 2408 px, 90 Hz Display with...</td>\n",
              "      <td>50 MP + 2 MP + 2 MP Triple Rear &amp; 13 MP Front ...</td>\n",
              "      <td>Memory Card Supported, upto 1 TB</td>\n",
              "      <td>Android v13</td>\n",
              "    </tr>\n",
              "    <tr>\n",
              "      <th>3</th>\n",
              "      <td>Motorola Moto G62 5G</td>\n",
              "      <td>₹14,999</td>\n",
              "      <td>81.0</td>\n",
              "      <td>Dual Sim, 3G, 4G, 5G, VoLTE, Wi-Fi</td>\n",
              "      <td>Snapdragon  695, Octa Core, 2.2 GHz Processor</td>\n",
              "      <td>6 GB RAM, 128 GB inbuilt</td>\n",
              "      <td>5000 mAh Battery with Fast Charging</td>\n",
              "      <td>6.55 inches, 1080 x 2400 px, 120 Hz Display wi...</td>\n",
              "      <td>50 MP + 8 MP + 2 MP Triple Rear &amp; 16 MP Front ...</td>\n",
              "      <td>Memory Card (Hybrid), upto 1 TB</td>\n",
              "      <td>Android v12</td>\n",
              "    </tr>\n",
              "    <tr>\n",
              "      <th>4</th>\n",
              "      <td>Realme 10 Pro Plus</td>\n",
              "      <td>₹24,999</td>\n",
              "      <td>82.0</td>\n",
              "      <td>Dual Sim, 3G, 4G, 5G, VoLTE, Wi-Fi</td>\n",
              "      <td>Dimensity 1080, Octa Core, 2.6 GHz Processor</td>\n",
              "      <td>6 GB RAM, 128 GB inbuilt</td>\n",
              "      <td>5000 mAh Battery with 67W Fast Charging</td>\n",
              "      <td>6.7 inches, 1080 x 2412 px, 120 Hz Display wit...</td>\n",
              "      <td>108 MP + 8 MP + 2 MP Triple Rear &amp; 16 MP Front...</td>\n",
              "      <td>Memory Card Not Supported</td>\n",
              "      <td>Android v13</td>\n",
              "    </tr>\n",
              "  </tbody>\n",
              "</table>\n",
              "</div>\n",
              "      <button class=\"colab-df-convert\" onclick=\"convertToInteractive('df-ec068908-0922-4ef9-a760-89cd1846d6f6')\"\n",
              "              title=\"Convert this dataframe to an interactive table.\"\n",
              "              style=\"display:none;\">\n",
              "        \n",
              "  <svg xmlns=\"http://www.w3.org/2000/svg\" height=\"24px\"viewBox=\"0 0 24 24\"\n",
              "       width=\"24px\">\n",
              "    <path d=\"M0 0h24v24H0V0z\" fill=\"none\"/>\n",
              "    <path d=\"M18.56 5.44l.94 2.06.94-2.06 2.06-.94-2.06-.94-.94-2.06-.94 2.06-2.06.94zm-11 1L8.5 8.5l.94-2.06 2.06-.94-2.06-.94L8.5 2.5l-.94 2.06-2.06.94zm10 10l.94 2.06.94-2.06 2.06-.94-2.06-.94-.94-2.06-.94 2.06-2.06.94z\"/><path d=\"M17.41 7.96l-1.37-1.37c-.4-.4-.92-.59-1.43-.59-.52 0-1.04.2-1.43.59L10.3 9.45l-7.72 7.72c-.78.78-.78 2.05 0 2.83L4 21.41c.39.39.9.59 1.41.59.51 0 1.02-.2 1.41-.59l7.78-7.78 2.81-2.81c.8-.78.8-2.07 0-2.86zM5.41 20L4 18.59l7.72-7.72 1.47 1.35L5.41 20z\"/>\n",
              "  </svg>\n",
              "      </button>\n",
              "      \n",
              "  <style>\n",
              "    .colab-df-container {\n",
              "      display:flex;\n",
              "      flex-wrap:wrap;\n",
              "      gap: 12px;\n",
              "    }\n",
              "\n",
              "    .colab-df-convert {\n",
              "      background-color: #E8F0FE;\n",
              "      border: none;\n",
              "      border-radius: 50%;\n",
              "      cursor: pointer;\n",
              "      display: none;\n",
              "      fill: #1967D2;\n",
              "      height: 32px;\n",
              "      padding: 0 0 0 0;\n",
              "      width: 32px;\n",
              "    }\n",
              "\n",
              "    .colab-df-convert:hover {\n",
              "      background-color: #E2EBFA;\n",
              "      box-shadow: 0px 1px 2px rgba(60, 64, 67, 0.3), 0px 1px 3px 1px rgba(60, 64, 67, 0.15);\n",
              "      fill: #174EA6;\n",
              "    }\n",
              "\n",
              "    [theme=dark] .colab-df-convert {\n",
              "      background-color: #3B4455;\n",
              "      fill: #D2E3FC;\n",
              "    }\n",
              "\n",
              "    [theme=dark] .colab-df-convert:hover {\n",
              "      background-color: #434B5C;\n",
              "      box-shadow: 0px 1px 3px 1px rgba(0, 0, 0, 0.15);\n",
              "      filter: drop-shadow(0px 1px 2px rgba(0, 0, 0, 0.3));\n",
              "      fill: #FFFFFF;\n",
              "    }\n",
              "  </style>\n",
              "\n",
              "      <script>\n",
              "        const buttonEl =\n",
              "          document.querySelector('#df-ec068908-0922-4ef9-a760-89cd1846d6f6 button.colab-df-convert');\n",
              "        buttonEl.style.display =\n",
              "          google.colab.kernel.accessAllowed ? 'block' : 'none';\n",
              "\n",
              "        async function convertToInteractive(key) {\n",
              "          const element = document.querySelector('#df-ec068908-0922-4ef9-a760-89cd1846d6f6');\n",
              "          const dataTable =\n",
              "            await google.colab.kernel.invokeFunction('convertToInteractive',\n",
              "                                                     [key], {});\n",
              "          if (!dataTable) return;\n",
              "\n",
              "          const docLinkHtml = 'Like what you see? Visit the ' +\n",
              "            '<a target=\"_blank\" href=https://colab.research.google.com/notebooks/data_table.ipynb>data table notebook</a>'\n",
              "            + ' to learn more about interactive tables.';\n",
              "          element.innerHTML = '';\n",
              "          dataTable['output_type'] = 'display_data';\n",
              "          await google.colab.output.renderOutput(dataTable, element);\n",
              "          const docLink = document.createElement('div');\n",
              "          docLink.innerHTML = docLinkHtml;\n",
              "          element.appendChild(docLink);\n",
              "        }\n",
              "      </script>\n",
              "    </div>\n",
              "  </div>\n",
              "  "
            ]
          },
          "metadata": {},
          "execution_count": 261
        }
      ]
    },
    {
      "cell_type": "markdown",
      "source": [
        "## Data Assessing\n",
        "\n",
        "### Quality Issues\n",
        "\n",
        "1. **model** - some brands are written diiferently like OPPO in model column `consistency`\n",
        "2. **price** - has unneccesary '₹' `validity`\n",
        "3. **price** - has ',' between numbers `validity`\n",
        "4. **price** - phone Namotel has a price of 99 `accuracy`\n",
        "5. **ratings** - missing values `completeness`\n",
        "6. **processor** - has some incorrect values for some samsung phones(row # -642,647,649,659,667,701,750,759,819,859,883,884,919,927,929,932,1002) `validity`\n",
        "7. There is ipod on row 756 `validity`\n",
        "8. **memory** - incorrect values in rows (441,485,534,553,584,610,613,642,647,649,659,667,701,750,759,819,859,884,919,927,929,932,990,1002) `validity`\n",
        "9. **battery** - incorrect values in rows(113,151,309,365,378,441,450,553,584,610,613,630,642,647,649,659,667,701,750,756,759,764,819,855,859,884,915,916,927,929,932,990,1002) `validity`\n",
        "10. **display** - sometimes frequency is not available `completeness`\n",
        "11. **display** - incorrect values in rows(378,441,450,553,584,610,613,630,642,647,649,659,667,701,750,759,764,819,859,884,915,916,927,929,932,990,1002) `validity`\n",
        "12. certain phones are foldable and the info is scattered `validity`\n",
        "13. **camera** - words like Dual, Triple and Quad are used to represent number of cameras and front and rear cameras are separated by '&'\n",
        "14. **camera** - problem with rows (100,113,151,157,161,238,273,308,309,323,324,365,367,378,394,441,450,484,506,534,553,571,572,575,584,610,613,615,630,642,647,649,659,667,684,687,705,711,723,728,750,756,759,764,792,819,846,854,855,858,883,884,896,915,916,927,929,932,945,956,990,995,1002,1016\n",
        ") `validity`\n",
        "15. **card** - sometimes contains info about os and camera `validity`\n",
        "16. **os** - sometimes contains info about bluetooth and fm radio `validity`\n",
        "17. **os** - issue with rows (324,378) `validity`\n",
        "18. **os** - sometimes contains os version name like lollipop `consistency`\n",
        "19. missing values in camera, card and os `completeness`\n",
        "20. datatype  of price and rating is incorrect `validity`\n",
        "\n",
        "\n",
        "\n",
        "### Tidiness Issues\n",
        "\n",
        "1. **sim** - can be split into 3 cols has_5g, has_NFC, has_IR_Blaster\n",
        "2. **ram** - can be split into 2 cols RAM and ROM\n",
        "3. **processor** - can be split into processor name, cores and cpu speed.\n",
        "4. **battery** - can be split into battery capacity, fast_charging_available\n",
        "5. **display** - can be split into size, resolution_width, resolution_height and frequency\n",
        "6. **camera** - can be split into front and rear camera\n",
        "7. **card** - can be split into supported, extended_upto"
      ],
      "metadata": {
        "id": "E2jbsdZaO6uh"
      }
    },
    {
      "cell_type": "code",
      "source": [
        "df.info()"
      ],
      "metadata": {
        "colab": {
          "base_uri": "https://localhost:8080/",
          "height": 141
        },
        "id": "5ScqQAc1O4Pr",
        "outputId": "81cfebde-0b4d-4d6c-b9e1-c40c80e850e1"
      },
      "execution_count": 1,
      "outputs": [
        {
          "output_type": "error",
          "ename": "NameError",
          "evalue": "name 'df' is not defined",
          "traceback": [
            "\u001b[0;31m---------------------------------------------------------------------------\u001b[0m",
            "\u001b[0;31mNameError\u001b[0m                                 Traceback (most recent call last)",
            "\u001b[0;32m<ipython-input-1-a74c58233b9e>\u001b[0m in \u001b[0;36m<cell line: 1>\u001b[0;34m()\u001b[0m\n\u001b[0;32m----> 1\u001b[0;31m \u001b[0mdf\u001b[0m\u001b[0;34m.\u001b[0m\u001b[0minfo\u001b[0m\u001b[0;34m(\u001b[0m\u001b[0;34m)\u001b[0m\u001b[0;34m\u001b[0m\u001b[0;34m\u001b[0m\u001b[0m\n\u001b[0m",
            "\u001b[0;31mNameError\u001b[0m: name 'df' is not defined"
          ]
        }
      ]
    },
    {
      "cell_type": "code",
      "source": [
        "df.describe()"
      ],
      "metadata": {
        "id": "YUPXFT-vMAER"
      },
      "execution_count": null,
      "outputs": []
    },
    {
      "cell_type": "code",
      "source": [
        "df.duplicated().sum()"
      ],
      "metadata": {
        "id": "pgVc9mLwMkIY"
      },
      "execution_count": null,
      "outputs": []
    },
    {
      "cell_type": "code",
      "source": [
        "# make a copy\n",
        "df1 = df.copy()"
      ],
      "metadata": {
        "id": "6Q09aFLwMwW7"
      },
      "execution_count": null,
      "outputs": []
    },
    {
      "cell_type": "code",
      "source": [
        "df1['price'] = df1['price'].str.replace('₹','').str.replace(',','').astype('int')"
      ],
      "metadata": {
        "id": "y_BKbugfOesG"
      },
      "execution_count": null,
      "outputs": []
    },
    {
      "cell_type": "code",
      "source": [
        "df1"
      ],
      "metadata": {
        "id": "Xbf9XZPuOf4t"
      },
      "execution_count": null,
      "outputs": []
    },
    {
      "cell_type": "code",
      "source": [
        "df1 = df1.reset_index()"
      ],
      "metadata": {
        "id": "--Zv0HaIPDYI"
      },
      "execution_count": null,
      "outputs": []
    },
    {
      "cell_type": "code",
      "source": [
        "df1['index'] = df1['index'] + 2"
      ],
      "metadata": {
        "id": "RYEKzJVnPo41"
      },
      "execution_count": null,
      "outputs": []
    },
    {
      "cell_type": "code",
      "source": [
        "df1"
      ],
      "metadata": {
        "id": "pFZu4xwBP3S3"
      },
      "execution_count": null,
      "outputs": []
    },
    {
      "cell_type": "code",
      "source": [
        "processor_rows = set((642,647,649,659,667,701,750,759,819,859,883,884,919,927,929,932,1002))\n",
        "ram_rows = set((441,485,534,553,584,610,613,642,647,649,659,667,701,750,759,819,859,884,919,927,929,932,990,1002))\n",
        "battery_rows = set((113,151,309,365,378,441,450,553,584,610,613,630,642,647,649,659,667,701,750,756,759,764,819,855,859,884,915,916,927,929,932,990,1002))\n",
        "display_rows = set((378,441,450,553,584,610,613,630,642,647,649,659,667,701,750,759,764,819,859,884,915,916,927,929,932,990,1002))\n",
        "camera_rows = set((100,113,151,157,161,238,273,308,309,323,324,365,367,378,394,441,450,484,506,534,553,571,572,575,584,610,613,615,630,642,647,649,659,667,684,687,705,711,723,728,750,756,759,764,792,819,846,854,855,858,883,884,896,915,916,927,929,932,945,956,990,995,1002,1016 ))"
      ],
      "metadata": {
        "id": "M8QaQTJ0P8i4"
      },
      "execution_count": null,
      "outputs": []
    },
    {
      "cell_type": "code",
      "source": [
        "df1[df1['index'].isin(processor_rows | ram_rows | battery_rows | display_rows | camera_rows)]"
      ],
      "metadata": {
        "id": "lq3qUFBIQeOL"
      },
      "execution_count": null,
      "outputs": []
    },
    {
      "cell_type": "code",
      "source": [
        "df1[df1['index'].isin(processor_rows & ram_rows & battery_rows & display_rows & camera_rows)]"
      ],
      "metadata": {
        "id": "X-HEwwwSQp74"
      },
      "execution_count": null,
      "outputs": []
    },
    {
      "cell_type": "code",
      "source": [
        "df1 = df1[df1['price'] >= 3400]"
      ],
      "metadata": {
        "id": "kOKE7ADDQ9zg"
      },
      "execution_count": null,
      "outputs": []
    },
    {
      "cell_type": "code",
      "source": [
        "df1"
      ],
      "metadata": {
        "id": "SNI1YGYXRpcz"
      },
      "execution_count": null,
      "outputs": []
    },
    {
      "cell_type": "code",
      "source": [
        "df1[df1['index'].isin(processor_rows)]"
      ],
      "metadata": {
        "id": "5idCBgyWRyv1"
      },
      "execution_count": null,
      "outputs": []
    },
    {
      "cell_type": "code",
      "source": [
        "df1.drop([645,857,882,925],inplace=True)"
      ],
      "metadata": {
        "id": "8U7F9fwwSouC"
      },
      "execution_count": null,
      "outputs": []
    },
    {
      "cell_type": "code",
      "source": [
        "df1[df1['index'].isin(ram_rows)]"
      ],
      "metadata": {
        "id": "CIuZrnquS2Fj"
      },
      "execution_count": null,
      "outputs": []
    },
    {
      "cell_type": "code",
      "source": [
        "df1.drop(582,inplace=True)"
      ],
      "metadata": {
        "id": "tqLXfKkMUB_J"
      },
      "execution_count": null,
      "outputs": []
    },
    {
      "cell_type": "code",
      "source": [
        "df1[df1['index'].isin(battery_rows)]"
      ],
      "metadata": {
        "id": "wyNZJfF-UP2w"
      },
      "execution_count": null,
      "outputs": []
    },
    {
      "cell_type": "code",
      "source": [
        "df1.drop([376,754],inplace=True)"
      ],
      "metadata": {
        "id": "q1SOBk_5Uga1"
      },
      "execution_count": null,
      "outputs": []
    },
    {
      "cell_type": "code",
      "source": [
        "temp_df = df1[df1['index'].isin(battery_rows)]"
      ],
      "metadata": {
        "id": "qFjcEDLtVALa"
      },
      "execution_count": null,
      "outputs": []
    },
    {
      "cell_type": "code",
      "source": [
        "x = temp_df.iloc[:,7:].shift(1,axis=1).values"
      ],
      "metadata": {
        "id": "mSquVJ4YVbaH"
      },
      "execution_count": null,
      "outputs": []
    },
    {
      "cell_type": "code",
      "source": [
        "df1.loc[temp_df.index,temp_df.columns[7:]] = x"
      ],
      "metadata": {
        "id": "SJti6_ceVvbi"
      },
      "execution_count": null,
      "outputs": []
    },
    {
      "cell_type": "code",
      "source": [
        "df1[df1['index'].isin(display_rows)]"
      ],
      "metadata": {
        "id": "ljPmmY71WHJo"
      },
      "execution_count": null,
      "outputs": []
    },
    {
      "cell_type": "code",
      "source": [
        "len(display_rows)"
      ],
      "metadata": {
        "id": "clZK1Ss4WnqW"
      },
      "execution_count": null,
      "outputs": []
    },
    {
      "cell_type": "code",
      "source": [
        "len(camera_rows)"
      ],
      "metadata": {
        "id": "pQ5TJt3LWt9j"
      },
      "execution_count": null,
      "outputs": []
    },
    {
      "cell_type": "code",
      "source": [
        "df1[df1['index'].isin(camera_rows)]\n",
        "# 155 271"
      ],
      "metadata": {
        "id": "XuQKuf1aW-az"
      },
      "execution_count": null,
      "outputs": []
    },
    {
      "cell_type": "code",
      "source": [
        "df1.drop([155, 271],inplace=True)"
      ],
      "metadata": {
        "id": "MqdOHoNmXEn3"
      },
      "execution_count": null,
      "outputs": []
    },
    {
      "cell_type": "code",
      "source": [
        "temp_df = df1[df1['index'].isin(camera_rows)]"
      ],
      "metadata": {
        "id": "La_HZjLKXqM7"
      },
      "execution_count": null,
      "outputs": []
    },
    {
      "cell_type": "code",
      "source": [
        "temp_df = temp_df[~temp_df['camera'].str.contains('MP')]"
      ],
      "metadata": {
        "id": "uIFp25RkYM7D"
      },
      "execution_count": null,
      "outputs": []
    },
    {
      "cell_type": "code",
      "source": [
        "df1.loc[temp_df.index, 'camera'] = temp_df['card'].values"
      ],
      "metadata": {
        "id": "o0fDYrdTYRL-"
      },
      "execution_count": null,
      "outputs": []
    },
    {
      "cell_type": "code",
      "source": [
        "df1['card'].value_counts()"
      ],
      "metadata": {
        "id": "IHooxFzLa7D7"
      },
      "execution_count": null,
      "outputs": []
    },
    {
      "cell_type": "code",
      "source": [
        "temp_df = df1[df1['card'].str.contains('MP')]"
      ],
      "metadata": {
        "id": "vzqGPh8bY1U_"
      },
      "execution_count": null,
      "outputs": []
    },
    {
      "cell_type": "code",
      "source": [
        "df1.loc[temp_df.index,'card'] = 'Memory Card Not Supported'"
      ],
      "metadata": {
        "id": "n4M8GQsNay6M"
      },
      "execution_count": null,
      "outputs": []
    },
    {
      "cell_type": "code",
      "source": [
        "df1['card'].value_counts()"
      ],
      "metadata": {
        "id": "SqL45WzSZJci"
      },
      "execution_count": null,
      "outputs": []
    },
    {
      "cell_type": "code",
      "source": [
        "pd.set_option('display.max_rows', None)"
      ],
      "metadata": {
        "id": "1eXp_ySGZvgM"
      },
      "execution_count": null,
      "outputs": []
    },
    {
      "cell_type": "code",
      "source": [
        "temp_df = df1[~df1['card'].str.contains('Memory Card')]"
      ],
      "metadata": {
        "id": "mkUe_Vj7Z343"
      },
      "execution_count": null,
      "outputs": []
    },
    {
      "cell_type": "code",
      "source": [
        "df1.loc[temp_df.index,'os'] = temp_df['card'].values"
      ],
      "metadata": {
        "id": "-LDL6XTCbK9m"
      },
      "execution_count": null,
      "outputs": []
    },
    {
      "cell_type": "code",
      "source": [
        "df1.loc[temp_df.index,'card'] = 'Memory Card Not Supported'"
      ],
      "metadata": {
        "id": "JQFYcf8Fb3j9"
      },
      "execution_count": null,
      "outputs": []
    },
    {
      "cell_type": "code",
      "source": [
        "df1['card'].value_counts()"
      ],
      "metadata": {
        "id": "gKcSXPsMb-iq"
      },
      "execution_count": null,
      "outputs": []
    },
    {
      "cell_type": "code",
      "source": [
        "df1['os'].value_counts()"
      ],
      "metadata": {
        "id": "CHbyQu8NcBEt"
      },
      "execution_count": null,
      "outputs": []
    },
    {
      "cell_type": "code",
      "source": [
        "temp_df = df1[df1['os'] == 'Bluetooth']"
      ],
      "metadata": {
        "id": "k-jfnYcZcJZb"
      },
      "execution_count": null,
      "outputs": []
    },
    {
      "cell_type": "code",
      "source": [
        "df1.loc[temp_df.index,'os'] = np.nan"
      ],
      "metadata": {
        "id": "-KkMThzgcaia"
      },
      "execution_count": null,
      "outputs": []
    },
    {
      "cell_type": "code",
      "source": [
        "df1.head()"
      ],
      "metadata": {
        "id": "TGzkj5ggdEwX"
      },
      "execution_count": null,
      "outputs": []
    },
    {
      "cell_type": "code",
      "source": [
        "df1['display'].value_counts()"
      ],
      "metadata": {
        "id": "ySGgbE9UecrH"
      },
      "execution_count": null,
      "outputs": []
    },
    {
      "cell_type": "code",
      "source": [
        "(982/1020)*100"
      ],
      "metadata": {
        "id": "3WchgngAefzL"
      },
      "execution_count": null,
      "outputs": []
    },
    {
      "cell_type": "code",
      "source": [
        "df1"
      ],
      "metadata": {
        "id": "AfFmEYVZejM3"
      },
      "execution_count": null,
      "outputs": []
    },
    {
      "cell_type": "code",
      "source": [
        "df1.info()"
      ],
      "metadata": {
        "id": "CtYz-DxzfVKg"
      },
      "execution_count": null,
      "outputs": []
    },
    {
      "cell_type": "code",
      "source": [
        "brand_names = df1['model'].str.split(' ').str.get(0)"
      ],
      "metadata": {
        "id": "NzchZPzno0h5"
      },
      "execution_count": null,
      "outputs": []
    },
    {
      "cell_type": "code",
      "source": [
        "df1.insert(1,'brand_name',brand_names)"
      ],
      "metadata": {
        "id": "y3vTEy63pHLb"
      },
      "execution_count": null,
      "outputs": []
    },
    {
      "cell_type": "code",
      "source": [
        "df1['brand_name'] = df1['brand_name'].str.lower()"
      ],
      "metadata": {
        "id": "x1hJDbRMwGLL"
      },
      "execution_count": null,
      "outputs": []
    },
    {
      "cell_type": "code",
      "source": [
        "has_5g = df1['sim'].str.contains('5G')\n",
        "has_nfc = df1['sim'].str.contains('NFC')\n",
        "has_ir_blaster = df1['sim'].str.contains('IR Blaster')"
      ],
      "metadata": {
        "id": "MflFWgdAwHsn"
      },
      "execution_count": null,
      "outputs": []
    },
    {
      "cell_type": "code",
      "source": [
        "df1.insert(6,'has_5g',has_5g)\n",
        "df1.insert(7,'has_nfc',has_nfc)\n",
        "df1.insert(8,'has_ir_blaster',has_ir_blaster)"
      ],
      "metadata": {
        "id": "Ycc0R_cDwQ1Z",
        "outputId": "7ae9982e-7b6f-415e-a826-14526a78dd10",
        "colab": {
          "base_uri": "https://localhost:8080/",
          "height": 176
        }
      },
      "execution_count": 2,
      "outputs": [
        {
          "output_type": "error",
          "ename": "NameError",
          "evalue": "name 'df1' is not defined",
          "traceback": [
            "\u001b[0;31m---------------------------------------------------------------------------\u001b[0m",
            "\u001b[0;31mNameError\u001b[0m                                 Traceback (most recent call last)",
            "\u001b[0;32m<ipython-input-2-d52ed414e9da>\u001b[0m in \u001b[0;36m<cell line: 1>\u001b[0;34m()\u001b[0m\n\u001b[0;32m----> 1\u001b[0;31m \u001b[0mdf1\u001b[0m\u001b[0;34m.\u001b[0m\u001b[0minsert\u001b[0m\u001b[0;34m(\u001b[0m\u001b[0;36m6\u001b[0m\u001b[0;34m,\u001b[0m\u001b[0;34m'has_5g'\u001b[0m\u001b[0;34m,\u001b[0m\u001b[0mhas_5g\u001b[0m\u001b[0;34m)\u001b[0m\u001b[0;34m\u001b[0m\u001b[0;34m\u001b[0m\u001b[0m\n\u001b[0m\u001b[1;32m      2\u001b[0m \u001b[0mdf1\u001b[0m\u001b[0;34m.\u001b[0m\u001b[0minsert\u001b[0m\u001b[0;34m(\u001b[0m\u001b[0;36m7\u001b[0m\u001b[0;34m,\u001b[0m\u001b[0;34m'has_nfc'\u001b[0m\u001b[0;34m,\u001b[0m\u001b[0mhas_nfc\u001b[0m\u001b[0;34m)\u001b[0m\u001b[0;34m\u001b[0m\u001b[0;34m\u001b[0m\u001b[0m\n\u001b[1;32m      3\u001b[0m \u001b[0mdf1\u001b[0m\u001b[0;34m.\u001b[0m\u001b[0minsert\u001b[0m\u001b[0;34m(\u001b[0m\u001b[0;36m8\u001b[0m\u001b[0;34m,\u001b[0m\u001b[0;34m'has_ir_blaster'\u001b[0m\u001b[0;34m,\u001b[0m\u001b[0mhas_ir_blaster\u001b[0m\u001b[0;34m)\u001b[0m\u001b[0;34m\u001b[0m\u001b[0;34m\u001b[0m\u001b[0m\n",
            "\u001b[0;31mNameError\u001b[0m: name 'df1' is not defined"
          ]
        }
      ]
    },
    {
      "cell_type": "code",
      "source": [
        "processor_name = df1['processor'].str.split(',').str.get(0)"
      ],
      "metadata": {
        "id": "oS-1MvXoxAAh"
      },
      "execution_count": null,
      "outputs": []
    },
    {
      "cell_type": "code",
      "source": [
        "num_cores = df1['processor'].str.split(',').str.get(1)"
      ],
      "metadata": {
        "id": "5RxjTUioxV3d"
      },
      "execution_count": null,
      "outputs": []
    },
    {
      "cell_type": "code",
      "source": [
        "processor_speed = df1['processor'].str.split(',').str.get(2)"
      ],
      "metadata": {
        "id": "a9EfBR5lx-KG"
      },
      "execution_count": null,
      "outputs": []
    },
    {
      "cell_type": "code",
      "source": [
        "df1.insert(10,'processor_name',processor_name)\n",
        "df1.insert(11,'num_cores',num_cores)\n",
        "df1.insert(12,'processor_speed',processor_speed)"
      ],
      "metadata": {
        "id": "1oaWdZ9RyOiR"
      },
      "execution_count": null,
      "outputs": []
    },
    {
      "cell_type": "code",
      "source": [
        "df1['processor_name'] = df1['processor_name'].str.strip()"
      ],
      "metadata": {
        "id": "oqL9O8D0yQh4"
      },
      "execution_count": null,
      "outputs": []
    },
    {
      "cell_type": "code",
      "source": [
        "temp_df = df1[df1['processor_name'].str.contains('Core')][['processor_name', 'num_cores',\t'processor_speed']].shift(1,axis=1)"
      ],
      "metadata": {
        "id": "JpkC-T1qyoXK"
      },
      "execution_count": null,
      "outputs": []
    },
    {
      "cell_type": "code",
      "source": [
        "temp_df.shape"
      ],
      "metadata": {
        "id": "rGXc0dt6tItW"
      },
      "execution_count": null,
      "outputs": []
    },
    {
      "cell_type": "code",
      "source": [
        "df1.loc[temp_df.index,['processor_name', 'num_cores',\t'processor_speed']] = temp_df.values"
      ],
      "metadata": {
        "id": "tT1PRiM9zNd-"
      },
      "execution_count": null,
      "outputs": []
    },
    {
      "cell_type": "code",
      "source": [
        "df1.loc[856]"
      ],
      "metadata": {
        "id": "H4XMeaxT0CKx"
      },
      "execution_count": null,
      "outputs": []
    },
    {
      "cell_type": "code",
      "source": [
        "df1.loc[856,'processor_name'] = 'Mediatek MT6739'"
      ],
      "metadata": {
        "id": "WpQyAx0t0Lrz"
      },
      "execution_count": null,
      "outputs": []
    },
    {
      "cell_type": "code",
      "source": [
        "processor_brand = df1['processor_name'].str.split(' ').str.get(0).str.lower()"
      ],
      "metadata": {
        "id": "QDKRUpHs0scJ"
      },
      "execution_count": null,
      "outputs": []
    },
    {
      "cell_type": "code",
      "source": [
        "df1.insert(11,'processor_brand',processor_brand)"
      ],
      "metadata": {
        "id": "-kN6-lYi01mE"
      },
      "execution_count": null,
      "outputs": []
    },
    {
      "cell_type": "code",
      "source": [
        "df1['num_cores'] = df1['num_cores'].str.strip()"
      ],
      "metadata": {
        "id": "49QOo4Kj1Mqc"
      },
      "execution_count": null,
      "outputs": []
    },
    {
      "cell_type": "code",
      "source": [
        "df1['num_cores'] = df1['num_cores'].str.replace('Octa Core Processor','Octa Core').str.replace('Hexa Core Processor','Hexa Core')"
      ],
      "metadata": {
        "id": "uzimaqp_1N0Y"
      },
      "execution_count": null,
      "outputs": []
    },
    {
      "cell_type": "code",
      "source": [
        "df1['processor_speed'] = df1['processor_speed'].str.strip().str.split(' ').str.get(0).str.replace('\\u2009',' ').str.split(' ').str.get(0).astype(float)"
      ],
      "metadata": {
        "id": "dQb3wnfi1e7c"
      },
      "execution_count": null,
      "outputs": []
    },
    {
      "cell_type": "code",
      "source": [
        "df1.head()"
      ],
      "metadata": {
        "id": "eg-WJU1D1zTd"
      },
      "execution_count": null,
      "outputs": []
    },
    {
      "cell_type": "code",
      "source": [
        "ram_capacity = df1['ram'].str.strip().str.split(',').str.get(0).str.findall(r'\\b(\\d+)\\b').str.get(0)"
      ],
      "metadata": {
        "id": "6EDlO2sS2q6U"
      },
      "execution_count": null,
      "outputs": []
    },
    {
      "cell_type": "code",
      "source": [
        "df1.insert(16,'ram_capacity',ram_capacity)"
      ],
      "metadata": {
        "id": "NcyjF9Dx55O-"
      },
      "execution_count": null,
      "outputs": []
    },
    {
      "cell_type": "code",
      "source": [
        "df1.head()"
      ],
      "metadata": {
        "id": "ZDFYEeSa6pkJ"
      },
      "execution_count": null,
      "outputs": []
    },
    {
      "cell_type": "code",
      "source": [
        "internal_memory = df1['ram'].str.strip().str.split(',').str.get(1).str.strip().str.findall(r'\\b(\\d+)\\b').str.get(0)"
      ],
      "metadata": {
        "id": "Fv_v6VKW6yFH"
      },
      "execution_count": null,
      "outputs": []
    },
    {
      "cell_type": "code",
      "source": [
        "df1.insert(17,'internal_memory',internal_memory)"
      ],
      "metadata": {
        "id": "Gc7eyYn469Lu"
      },
      "execution_count": null,
      "outputs": []
    },
    {
      "cell_type": "code",
      "source": [
        "df1['ram_capacity'] = df1['ram_capacity'].astype(float)"
      ],
      "metadata": {
        "id": "OGsuDjKV7dXl"
      },
      "execution_count": null,
      "outputs": []
    },
    {
      "cell_type": "code",
      "source": [
        "df1.drop([486,627],inplace=True)"
      ],
      "metadata": {
        "id": "Y6DAl-cz7fUa"
      },
      "execution_count": null,
      "outputs": []
    },
    {
      "cell_type": "code",
      "source": [
        "df1.loc[[483], ['ram_capacity','internal_memory']] = [12.0,'512']"
      ],
      "metadata": {
        "id": "_Ld453M-8H_r"
      },
      "execution_count": null,
      "outputs": []
    },
    {
      "cell_type": "code",
      "source": [
        "df1['ram_capacity'].value_counts()"
      ],
      "metadata": {
        "id": "BW0L3iLu9p_H"
      },
      "execution_count": null,
      "outputs": []
    },
    {
      "cell_type": "code",
      "source": [
        "df1['internal_memory'] = df1['internal_memory'].astype(float)"
      ],
      "metadata": {
        "id": "zXTWw02t-fdl"
      },
      "execution_count": null,
      "outputs": []
    },
    {
      "cell_type": "code",
      "source": [
        "temp_df = df1[df1['internal_memory'] == 1]"
      ],
      "metadata": {
        "id": "7Dng6sT8-kzN"
      },
      "execution_count": null,
      "outputs": []
    },
    {
      "cell_type": "code",
      "source": [
        "df1.loc[temp_df.index,'internal_memory'] = 1024"
      ],
      "metadata": {
        "id": "Bu7SlAiJ-zY6"
      },
      "execution_count": null,
      "outputs": []
    },
    {
      "cell_type": "code",
      "source": [
        "df1['internal_memory'].value_counts()"
      ],
      "metadata": {
        "id": "3b6HkmYK_LJZ"
      },
      "execution_count": null,
      "outputs": []
    },
    {
      "cell_type": "code",
      "source": [
        "battery_capacity = df1['battery'].str.strip().str.split('with').str.get(0).str.strip().str.findall(r'\\b(\\d+)\\b').str.get(0).astype(float)"
      ],
      "metadata": {
        "id": "ADRdKBNV_STv"
      },
      "execution_count": null,
      "outputs": []
    },
    {
      "cell_type": "code",
      "source": [
        "df1.insert(16,'battery_capacity',battery_capacity)"
      ],
      "metadata": {
        "id": "du_2DUka_VwF"
      },
      "execution_count": null,
      "outputs": []
    },
    {
      "cell_type": "code",
      "source": [
        "fast_charging = df1['battery'].str.strip().str.split('with').str.get(1).str.strip().str.findall(r'\\d{2,3}')"
      ],
      "metadata": {
        "id": "ztvPmgD8BKK5"
      },
      "execution_count": null,
      "outputs": []
    },
    {
      "cell_type": "code",
      "source": [
        "df1.insert(17,'fast_charging',fast_charging)"
      ],
      "metadata": {
        "id": "ba4fMz47BVD9"
      },
      "execution_count": null,
      "outputs": []
    },
    {
      "cell_type": "code",
      "source": [
        "def fast_charging_extractor(item):\n",
        "\n",
        "  if type(item) == list:\n",
        "    if len(item) == 1:\n",
        "      return item[0]\n",
        "    else:\n",
        "      return 0\n",
        "  else:\n",
        "    return -1"
      ],
      "metadata": {
        "id": "XDz2Vj9YDXbU"
      },
      "execution_count": 3,
      "outputs": []
    },
    {
      "cell_type": "code",
      "source": [
        "df1['fast_charging'] = df1['fast_charging'].apply(fast_charging_extractor).astype(int)"
      ],
      "metadata": {
        "id": "JYOPjsvEC2s7",
        "outputId": "19e752d6-7095-4b1f-bb67-bf0a43d377dd",
        "colab": {
          "base_uri": "https://localhost:8080/",
          "height": 141
        }
      },
      "execution_count": 4,
      "outputs": [
        {
          "output_type": "error",
          "ename": "NameError",
          "evalue": "name 'df1' is not defined",
          "traceback": [
            "\u001b[0;31m---------------------------------------------------------------------------\u001b[0m",
            "\u001b[0;31mNameError\u001b[0m                                 Traceback (most recent call last)",
            "\u001b[0;32m<ipython-input-4-7c7a7cdd7793>\u001b[0m in \u001b[0;36m<cell line: 1>\u001b[0;34m()\u001b[0m\n\u001b[0;32m----> 1\u001b[0;31m \u001b[0mdf1\u001b[0m\u001b[0;34m[\u001b[0m\u001b[0;34m'fast_charging'\u001b[0m\u001b[0;34m]\u001b[0m \u001b[0;34m=\u001b[0m \u001b[0mdf1\u001b[0m\u001b[0;34m[\u001b[0m\u001b[0;34m'fast_charging'\u001b[0m\u001b[0;34m]\u001b[0m\u001b[0;34m.\u001b[0m\u001b[0mapply\u001b[0m\u001b[0;34m(\u001b[0m\u001b[0mfast_charging_extractor\u001b[0m\u001b[0;34m)\u001b[0m\u001b[0;34m.\u001b[0m\u001b[0mastype\u001b[0m\u001b[0;34m(\u001b[0m\u001b[0mint\u001b[0m\u001b[0;34m)\u001b[0m\u001b[0;34m\u001b[0m\u001b[0;34m\u001b[0m\u001b[0m\n\u001b[0m",
            "\u001b[0;31mNameError\u001b[0m: name 'df1' is not defined"
          ]
        }
      ]
    },
    {
      "cell_type": "code",
      "source": [
        "screen_size = df1['display'].str.strip().str.split(',').str.get(0).str.strip().str.split(' ').str.get(0).astype(float)"
      ],
      "metadata": {
        "id": "hlJ6QeO6C4IV"
      },
      "execution_count": null,
      "outputs": []
    },
    {
      "cell_type": "code",
      "source": [
        "df1.insert(21,'screen_size',screen_size)"
      ],
      "metadata": {
        "id": "PboOzJDcECFd"
      },
      "execution_count": null,
      "outputs": []
    },
    {
      "cell_type": "code",
      "source": [
        "resolution = df1['display'].str.strip().str.split(',').str.get(1).str.strip().str.split('px').str.get(0)"
      ],
      "metadata": {
        "id": "VD84U4UbEpHe"
      },
      "execution_count": null,
      "outputs": []
    },
    {
      "cell_type": "code",
      "source": [
        "df1.insert(22,'resolution',resolution)"
      ],
      "metadata": {
        "id": "cXBBaKB9E1yn"
      },
      "execution_count": null,
      "outputs": []
    },
    {
      "cell_type": "code",
      "source": [
        "refresh_rate = df1['display'].str.strip().str.split(',').str.get(2).str.strip().str.findall(r'\\d{2,3}').str.get(0).apply(lambda x: 60 if pd.isna(x) else x).astype(int)"
      ],
      "metadata": {
        "id": "z3t0H1cgFMPY"
      },
      "execution_count": null,
      "outputs": []
    },
    {
      "cell_type": "code",
      "source": [
        "df1.insert(22,'refresh_rate',refresh_rate)"
      ],
      "metadata": {
        "id": "VofVGCg3FRTl"
      },
      "execution_count": null,
      "outputs": []
    },
    {
      "cell_type": "code",
      "source": [
        "df1.head()"
      ],
      "metadata": {
        "id": "7IVCo3onF4rf"
      },
      "execution_count": null,
      "outputs": []
    },
    {
      "cell_type": "code",
      "source": [
        "def camera_extractor(text):\n",
        "\n",
        "  if 'Quad' in text:\n",
        "    return '4'\n",
        "  elif 'Triple' in text:\n",
        "    return '3'\n",
        "  elif 'Dual' in text:\n",
        "    return '2'\n",
        "  elif 'Missing' in text:\n",
        "    return 'Missing'\n",
        "  else:\n",
        "    return '1'"
      ],
      "metadata": {
        "id": "-hlimaL8Hn-q"
      },
      "execution_count": null,
      "outputs": []
    },
    {
      "cell_type": "code",
      "source": [
        "num_rear_cameras = df1['camera'].str.strip().str.split('&').str.get(0).apply(camera_extractor)"
      ],
      "metadata": {
        "id": "azFzrpJzF6ym"
      },
      "execution_count": null,
      "outputs": []
    },
    {
      "cell_type": "code",
      "source": [
        "df1.insert(25,'num_rear_cameras',num_rear_cameras)"
      ],
      "metadata": {
        "id": "l2AxTB_BGWhM"
      },
      "execution_count": null,
      "outputs": []
    },
    {
      "cell_type": "code",
      "source": [
        "num_front_cameras = df1['camera'].str.strip().str.split('&').str.get(1).str.strip().fillna('Missing').apply(camera_extractor)"
      ],
      "metadata": {
        "id": "rV9bw-xiH97p",
        "outputId": "fd1ff00e-062c-4ee2-f55a-01a3a2f4ab98",
        "colab": {
          "base_uri": "https://localhost:8080/",
          "height": 141
        }
      },
      "execution_count": 5,
      "outputs": [
        {
          "output_type": "error",
          "ename": "NameError",
          "evalue": "name 'df1' is not defined",
          "traceback": [
            "\u001b[0;31m---------------------------------------------------------------------------\u001b[0m",
            "\u001b[0;31mNameError\u001b[0m                                 Traceback (most recent call last)",
            "\u001b[0;32m<ipython-input-5-f3c524f671c8>\u001b[0m in \u001b[0;36m<cell line: 1>\u001b[0;34m()\u001b[0m\n\u001b[0;32m----> 1\u001b[0;31m \u001b[0mnum_front_cameras\u001b[0m \u001b[0;34m=\u001b[0m \u001b[0mdf1\u001b[0m\u001b[0;34m[\u001b[0m\u001b[0;34m'camera'\u001b[0m\u001b[0;34m]\u001b[0m\u001b[0;34m.\u001b[0m\u001b[0mstr\u001b[0m\u001b[0;34m.\u001b[0m\u001b[0mstrip\u001b[0m\u001b[0;34m(\u001b[0m\u001b[0;34m)\u001b[0m\u001b[0;34m.\u001b[0m\u001b[0mstr\u001b[0m\u001b[0;34m.\u001b[0m\u001b[0msplit\u001b[0m\u001b[0;34m(\u001b[0m\u001b[0;34m'&'\u001b[0m\u001b[0;34m)\u001b[0m\u001b[0;34m.\u001b[0m\u001b[0mstr\u001b[0m\u001b[0;34m.\u001b[0m\u001b[0mget\u001b[0m\u001b[0;34m(\u001b[0m\u001b[0;36m1\u001b[0m\u001b[0;34m)\u001b[0m\u001b[0;34m.\u001b[0m\u001b[0mstr\u001b[0m\u001b[0;34m.\u001b[0m\u001b[0mstrip\u001b[0m\u001b[0;34m(\u001b[0m\u001b[0;34m)\u001b[0m\u001b[0;34m.\u001b[0m\u001b[0mfillna\u001b[0m\u001b[0;34m(\u001b[0m\u001b[0;34m'Missing'\u001b[0m\u001b[0;34m)\u001b[0m\u001b[0;34m.\u001b[0m\u001b[0mapply\u001b[0m\u001b[0;34m(\u001b[0m\u001b[0mcamera_extractor\u001b[0m\u001b[0;34m)\u001b[0m\u001b[0;34m\u001b[0m\u001b[0;34m\u001b[0m\u001b[0m\n\u001b[0m",
            "\u001b[0;31mNameError\u001b[0m: name 'df1' is not defined"
          ]
        }
      ]
    },
    {
      "cell_type": "code",
      "source": [
        "df1.insert(26,'num_front_cameras',num_front_cameras)"
      ],
      "metadata": {
        "id": "fpeK1cHFIIOM"
      },
      "execution_count": null,
      "outputs": []
    },
    {
      "cell_type": "code",
      "source": [
        "df1.head()"
      ],
      "metadata": {
        "id": "YS1PLe2uJOVy"
      },
      "execution_count": null,
      "outputs": []
    },
    {
      "cell_type": "code",
      "source": [
        "df1[df1['num_front_cameras'] == 'Missing']"
      ],
      "metadata": {
        "id": "k8FdFgLgJQJA"
      },
      "execution_count": null,
      "outputs": []
    },
    {
      "cell_type": "code",
      "source": [
        "pd.set_option('display.max_columns',None)"
      ],
      "metadata": {
        "id": "9tLPmLzNJo_o"
      },
      "execution_count": null,
      "outputs": []
    },
    {
      "cell_type": "code",
      "source": [
        "df1.head()"
      ],
      "metadata": {
        "colab": {
          "base_uri": "https://localhost:8080/",
          "height": 141
        },
        "id": "L93-llj2u-nm",
        "outputId": "7b0c1fb4-7268-4874-cff5-7d63b8997fae"
      },
      "execution_count": 6,
      "outputs": [
        {
          "output_type": "error",
          "ename": "NameError",
          "evalue": "name 'df1' is not defined",
          "traceback": [
            "\u001b[0;31m---------------------------------------------------------------------------\u001b[0m",
            "\u001b[0;31mNameError\u001b[0m                                 Traceback (most recent call last)",
            "\u001b[0;32m<ipython-input-6-eda2b5cc1a42>\u001b[0m in \u001b[0;36m<cell line: 1>\u001b[0;34m()\u001b[0m\n\u001b[0;32m----> 1\u001b[0;31m \u001b[0mdf1\u001b[0m\u001b[0;34m.\u001b[0m\u001b[0mhead\u001b[0m\u001b[0;34m(\u001b[0m\u001b[0;34m)\u001b[0m\u001b[0;34m\u001b[0m\u001b[0;34m\u001b[0m\u001b[0m\n\u001b[0m",
            "\u001b[0;31mNameError\u001b[0m: name 'df1' is not defined"
          ]
        }
      ]
    },
    {
      "cell_type": "code",
      "source": [
        "#df1[df1['camera'] == 'Foldable Display, Dual Display']\n",
        "df1.loc[69,'camera'] == '50 MP'"
      ],
      "metadata": {
        "id": "RaX9RDZtvDCq"
      },
      "execution_count": null,
      "outputs": []
    },
    {
      "cell_type": "code",
      "source": [
        "temp_df = df1[df1['camera'] == 'Foldable Display, Dual Display']"
      ],
      "metadata": {
        "id": "IhgIgNfSwioh"
      },
      "execution_count": null,
      "outputs": []
    },
    {
      "cell_type": "code",
      "source": [
        "df1.loc[temp_df.index, 'camera'] = '50 MP'"
      ],
      "metadata": {
        "id": "u3Dv9XP7xiQe"
      },
      "execution_count": null,
      "outputs": []
    },
    {
      "cell_type": "code",
      "source": [
        "df1['primary_camera_rear'] = df1['camera'].str.split(' ').str.get(0).str.replace('\\u2009',' ').str.split(' ').str.get(0)"
      ],
      "metadata": {
        "id": "B6Gne8Yuy9NS"
      },
      "execution_count": null,
      "outputs": []
    },
    {
      "cell_type": "code",
      "source": [
        "df1['primary_camera_front'] = df1['camera'].str.split('&').str.get(1).str.strip().str.split(' ').str.get(0).str.replace('\\u2009',' ').str.split(' ').str.get(0)"
      ],
      "metadata": {
        "id": "IeN6VJdzzC3j"
      },
      "execution_count": null,
      "outputs": []
    },
    {
      "cell_type": "code",
      "source": [
        "df1.head()"
      ],
      "metadata": {
        "id": "Axjk09lX0Odh"
      },
      "execution_count": null,
      "outputs": []
    },
    {
      "cell_type": "code",
      "source": [
        "df1[df1['card'] == 'Memory Card (Hybrid)']"
      ],
      "metadata": {
        "colab": {
          "base_uri": "https://localhost:8080/",
          "height": 141
        },
        "id": "_U5ULnW316fh",
        "outputId": "5a8ac4d7-e303-40da-a1b0-1a74e1073165"
      },
      "execution_count": 7,
      "outputs": [
        {
          "output_type": "error",
          "ename": "NameError",
          "evalue": "name 'df1' is not defined",
          "traceback": [
            "\u001b[0;31m---------------------------------------------------------------------------\u001b[0m",
            "\u001b[0;31mNameError\u001b[0m                                 Traceback (most recent call last)",
            "\u001b[0;32m<ipython-input-7-210effc01ca8>\u001b[0m in \u001b[0;36m<cell line: 1>\u001b[0;34m()\u001b[0m\n\u001b[0;32m----> 1\u001b[0;31m \u001b[0mdf1\u001b[0m\u001b[0;34m[\u001b[0m\u001b[0mdf1\u001b[0m\u001b[0;34m[\u001b[0m\u001b[0;34m'card'\u001b[0m\u001b[0;34m]\u001b[0m \u001b[0;34m==\u001b[0m \u001b[0;34m'Memory Card (Hybrid)'\u001b[0m\u001b[0;34m]\u001b[0m\u001b[0;34m\u001b[0m\u001b[0;34m\u001b[0m\u001b[0m\n\u001b[0m",
            "\u001b[0;31mNameError\u001b[0m: name 'df1' is not defined"
          ]
        }
      ]
    },
    {
      "cell_type": "code",
      "source": [
        "df1.loc[temp_df.index, 'card'] = 'Not Specified'"
      ],
      "metadata": {
        "id": "1cx0BaZ32EAb"
      },
      "execution_count": null,
      "outputs": []
    },
    {
      "cell_type": "code",
      "source": [
        "df1['extended_memory'] = df1['card'].apply(lambda x:'0' if 'Not' in x else x.split('upto')).str.get(-1).str.strip().str.replace('Memory Card Supported','Not Specified')"
      ],
      "metadata": {
        "id": "zLxnb0Td0psF"
      },
      "execution_count": null,
      "outputs": []
    },
    {
      "cell_type": "code",
      "source": [
        "df1.head()"
      ],
      "metadata": {
        "id": "ybEx_oLW1G1i"
      },
      "execution_count": null,
      "outputs": []
    },
    {
      "cell_type": "code",
      "source": [
        "df1[df1['os'].str.contains('Memory Card')]"
      ],
      "metadata": {
        "id": "Ko52MVJN4uR2"
      },
      "execution_count": null,
      "outputs": []
    },
    {
      "cell_type": "code",
      "source": [
        "df1.loc[temp_df.index, 'os'] = 'Not Specified'"
      ],
      "metadata": {
        "id": "EKBMPTE15B0u"
      },
      "execution_count": null,
      "outputs": []
    },
    {
      "cell_type": "code",
      "source": [
        "df1['os'].value_counts()"
      ],
      "metadata": {
        "id": "qOau_KEM5nGE"
      },
      "execution_count": null,
      "outputs": []
    },
    {
      "cell_type": "code",
      "source": [
        "def os_extractor(text):\n",
        "\n",
        "  if 'Android' in text:\n",
        "    return 'android'\n",
        "  elif 'iOS' in text:\n",
        "    return 'ios'\n",
        "  elif 'Not Specified':\n",
        "    return text\n",
        "  elif 'Harmony' in text or 'Hongmeng' in text or 'EMUI' in text:\n",
        "    return 'other'"
      ],
      "metadata": {
        "id": "eVWrk6Ri5s_l"
      },
      "execution_count": null,
      "outputs": []
    },
    {
      "cell_type": "code",
      "source": [
        "df1['os'] = df1['os'].apply(os_extractor)"
      ],
      "metadata": {
        "id": "4xzqjjxh50Q4"
      },
      "execution_count": null,
      "outputs": []
    },
    {
      "cell_type": "code",
      "source": [
        "export_df = df1.drop(columns=['index','sim','processor','ram','battery','display','camera','card'])"
      ],
      "metadata": {
        "id": "cqCKBThm5946"
      },
      "execution_count": null,
      "outputs": []
    },
    {
      "cell_type": "code",
      "source": [
        "export_df.to_csv('smartphone_cleaned_v2.csv',index=False)"
      ],
      "metadata": {
        "id": "2aqSY7fc8Bxt"
      },
      "execution_count": null,
      "outputs": []
    },
    {
      "cell_type": "code",
      "source": [],
      "metadata": {
        "id": "RwH-2m4v83V3"
      },
      "execution_count": 7,
      "outputs": []
    }
  ]
}